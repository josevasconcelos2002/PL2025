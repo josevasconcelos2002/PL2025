{
  "cells": [
    {
      "cell_type": "markdown",
      "metadata": {
        "id": "R_04OtjA3d2q"
      },
      "source": [
        "## Sobre Python\n",
        "\n",
        "Python é uma linguagem de programação de alto nível que pode ser usada em vários domínios (e.g.: aplicações web, processamento de língua natural, machine learning, etc.). É dinamicamente tipada e possui coletor de lixo. Suporta ainda vários paradigmas de programação (funcional, imperativo, orientado a objetos)."
      ]
    },
    {
      "cell_type": "markdown",
      "metadata": {
        "id": "HyU7HQ2w43nq"
      },
      "source": [
        "### Exemplo de programas simples em Python"
      ]
    },
    {
      "cell_type": "code",
      "execution_count": 1,
      "metadata": {
        "colab": {
          "base_uri": "https://localhost:8080/"
        },
        "id": "5KIkS6Ok43QA",
        "outputId": "a82a0465-0174-4106-cb62-dbd5f473bef0"
      },
      "outputs": [
        {
          "name": "stdout",
          "output_type": "stream",
          "text": [
            "Hello World!\n"
          ]
        }
      ],
      "source": [
        "def main():\n",
        "  print(\"Hello World!\")\n",
        "# Falta alguma coisa ?\n",
        "\n",
        "main()"
      ]
    },
    {
      "cell_type": "markdown",
      "metadata": {
        "id": "Nets8hWWC-9e"
      },
      "source": [
        "Ao contrário de linguagens como C, nas quais a função `main` determina o fluxo de execução, em Python apenas o código *top-level* é executado, isto é, o código no nível superior do ficheiro, fora de qualquer função ou classe."
      ]
    },
    {
      "cell_type": "code",
      "execution_count": null,
      "metadata": {
        "colab": {
          "base_uri": "https://localhost:8080/"
        },
        "id": "P9u3ortHDVEI",
        "outputId": "c27c51b0-fef0-45eb-c71d-114b5a3d3b59"
      },
      "outputs": [
        {
          "name": "stdout",
          "output_type": "stream",
          "text": [
            "esta frase é impressa.\n",
            "esta frase não é impressa.\n"
          ]
        }
      ],
      "source": [
        "def teste():\n",
        "  print(\"esta frase não é impressa.\")\n",
        "\n",
        "print(\"esta frase é impressa.\")\n",
        "# python tambem pode ser usado para scripts"
      ]
    },
    {
      "cell_type": "markdown",
      "metadata": {
        "id": "oULL-9-wpfju"
      },
      "source": [
        "## Tipos de dados primitivos"
      ]
    },
    {
      "cell_type": "markdown",
      "metadata": {
        "id": "3YlpVwB0A3ta"
      },
      "source": [
        "### Inteiros"
      ]
    },
    {
      "cell_type": "code",
      "execution_count": 2,
      "metadata": {
        "colab": {
          "base_uri": "https://localhost:8080/",
          "height": 221
        },
        "id": "uEsKsnzMpfjv",
        "outputId": "2b04fcfa-2a6b-4af1-c706-54a047cce59f"
      },
      "outputs": [
        {
          "name": "stdout",
          "output_type": "stream",
          "text": [
            "8\n",
            "a\n",
            "a3\n"
          ]
        }
      ],
      "source": [
        "x = 5\n",
        "y = 3\n",
        "print(x + y) # funciona?\n",
        "x=\"a\"\n",
        "print(x)\n",
        "print(x + str(y) ) # funciona?"
      ]
    },
    {
      "cell_type": "markdown",
      "metadata": {
        "id": "wiCuE0KSA5nU"
      },
      "source": [
        "### Booleanos"
      ]
    },
    {
      "cell_type": "code",
      "execution_count": null,
      "metadata": {
        "colab": {
          "base_uri": "https://localhost:8080/"
        },
        "id": "pw7OI8v-pfjv",
        "outputId": "622876d7-4d51-4a18-8029-291678c2e77f"
      },
      "outputs": [
        {
          "name": "stdout",
          "output_type": "stream",
          "text": [
            "False\n",
            "True\n",
            "True\n"
          ]
        }
      ],
      "source": [
        "a = 10 < 5\n",
        "print(a)\n",
        "print(a or True)\n",
        "print(1 and (True or []) and not False)"
      ]
    },
    {
      "cell_type": "markdown",
      "metadata": {
        "id": "unR-iIN1BAcD"
      },
      "source": [
        "### Reais"
      ]
    },
    {
      "cell_type": "code",
      "execution_count": null,
      "metadata": {
        "colab": {
          "base_uri": "https://localhost:8080/"
        },
        "id": "MTFtoYWapfjw",
        "outputId": "9f3140c7-43f3-4030-b5e8-ae66ccd7ca0f"
      },
      "outputs": [
        {
          "name": "stdout",
          "output_type": "stream",
          "text": [
            "14.333333333333334\n",
            "14.3333\n"
          ]
        }
      ],
      "source": [
        "media = (13+18+12)/3\n",
        "print(media) # qual é o tipo?\n",
        "print(round(media, 2))"
      ]
    },
    {
      "cell_type": "markdown",
      "metadata": {
        "id": "fus-3G5wBEGK"
      },
      "source": [
        "### Strings"
      ]
    },
    {
      "cell_type": "code",
      "execution_count": null,
      "metadata": {
        "colab": {
          "base_uri": "https://localhost:8080/"
        },
        "id": "BFKGydRipfjw",
        "outputId": "3b398cf2-6f6d-41c9-ef39-d34b964abdb4"
      },
      "outputs": [
        {
          "name": "stdout",
          "output_type": "stream",
          "text": [
            "q\n",
            "é fogo \n",
            "ver\n",
            "Ar gq ds  r\n",
            "rev es mes edra euq ogof é romA\n"
          ]
        }
      ],
      "source": [
        "frase = \"Amor é fogo que arde sem se ver\"\n",
        "\n",
        "# Acesso a um caracter\n",
        "print(frase[12])\n",
        "# Slicing\n",
        "print(frase[5:12])\n",
        "# A contar do fim: índices negativos\n",
        "print(frase[-3:])\n",
        "# Cada N caracteres:\n",
        "print(frase[::3])\n",
        "# Inverter string:\n",
        "print(frase[::-1])"
      ]
    },
    {
      "cell_type": "code",
      "execution_count": null,
      "metadata": {
        "colab": {
          "base_uri": "https://localhost:8080/"
        },
        "id": "Uj122wnGpfjw",
        "outputId": "bf5fb276-447d-45f3-b1a3-04594ec6caf8"
      },
      "outputs": [
        {
          "name": "stdout",
          "output_type": "stream",
          "text": [
            "A frase tem 31 carateres.\n",
            "Vamos iterar sobre a string:\n",
            "A\n",
            "m\n",
            "o\n",
            "r\n",
            " \n",
            "é\n",
            " \n",
            "f\n",
            "o\n",
            "g\n",
            "o\n",
            " \n",
            "q\n",
            "u\n",
            "e\n",
            " \n",
            "a\n",
            "r\n",
            "d\n",
            "e\n",
            " \n",
            "s\n",
            "e\n",
            "m\n",
            " \n",
            "s\n",
            "e\n",
            " \n",
            "v\n",
            "e\n",
            "r\n"
          ]
        }
      ],
      "source": [
        "frase = \"Amor é fogo que arde sem se ver\"\n",
        "\n",
        "# Comprimento e concatenação de strings\n",
        "print(\"A frase tem \" + str(len(frase)) + \" carateres.\")\n",
        "\n",
        "print(\"Vamos iterar sobre a string:\")\n",
        "for c in frase:\n",
        "    print(c)"
      ]
    },
    {
      "cell_type": "code",
      "execution_count": null,
      "metadata": {
        "colab": {
          "base_uri": "https://localhost:8080/"
        },
        "id": "dzqVgh2Npfjw",
        "outputId": "f9c2ac1c-df1b-4f62-a191-2bca85030627"
      },
      "outputs": [
        {
          "name": "stdout",
          "output_type": "stream",
          "text": [
            "['Amor', 'é', 'fogo', 'que', 'arde', 'sem', 'se', 'ver']\n"
          ]
        }
      ],
      "source": [
        "# Partir uma string em substrings usando um ou mais caracteres como separador\n",
        "frase = \"Amor é fogo que arde sem se ver\"\n",
        "# tiago@gmaiol.com\n",
        "palavras = frase.split(\" \")\n",
        "print(palavras)\n",
        "# O resultado é uma lista, vamos ver à frente..."
      ]
    },
    {
      "cell_type": "code",
      "execution_count": null,
      "metadata": {
        "colab": {
          "base_uri": "https://localhost:8080/"
        },
        "id": "yRapa-EF-9mV",
        "outputId": "0915666f-7713-4ab8-ba7d-9fcef82be965"
      },
      "outputs": [
        {
          "name": "stdout",
          "output_type": "stream",
          "text": [
            "<class 'str'>\n"
          ]
        }
      ],
      "source": [
        "# ATENÇÃO: Python tem nenhum tipo 'char'?\n",
        "frase = \"Amor é fogo que arde sem se ver\"\n",
        "print(type(frase[0])) #  string ou char?"
      ]
    },
    {
      "cell_type": "markdown",
      "metadata": {
        "id": "QFXvHUFpAppy"
      },
      "source": [
        "## Condicionais"
      ]
    },
    {
      "cell_type": "code",
      "execution_count": null,
      "metadata": {
        "colab": {
          "base_uri": "https://localhost:8080/"
        },
        "id": "cdc4_0srArsL",
        "outputId": "c5f90fd0-449c-4811-a61c-725018631eaa"
      },
      "outputs": [
        {
          "name": "stdout",
          "output_type": "stream",
          "text": [
            "Está tudo bem!\n"
          ]
        }
      ],
      "source": [
        "if 10 > 5:\n",
        "  print(\"Está tudo bem!\")\n",
        "elif 10>70:\n",
        "  print(\"ok\")\n",
        "else: # o bloco 'else' é opcional\n",
        "  print(\"Passa-se algo de estranho...\")"
      ]
    },
    {
      "cell_type": "code",
      "execution_count": null,
      "metadata": {
        "colab": {
          "base_uri": "https://localhost:8080/"
        },
        "id": "uOXXcwODA1Q-",
        "outputId": "9169dac4-01b7-44b1-e9d9-2fed7343a291"
      },
      "outputs": [
        {
          "name": "stdout",
          "output_type": "stream",
          "text": [
            "Se calhar não devia beber\n"
          ]
        }
      ],
      "source": [
        "idade = 22\n",
        "if idade < 18:\n",
        "  print(\"Ainda não pode beber\")\n",
        "else:\n",
        "  print(\"Se calhar não devia beber\")"
      ]
    },
    {
      "cell_type": "markdown",
      "metadata": {
        "id": "FAjCG3_H_0Mc"
      },
      "source": [
        "## Ciclos"
      ]
    },
    {
      "cell_type": "markdown",
      "metadata": {
        "id": "Pu8sN8JCBoeV"
      },
      "source": [
        "### Ciclo for"
      ]
    },
    {
      "cell_type": "code",
      "execution_count": null,
      "metadata": {
        "colab": {
          "base_uri": "https://localhost:8080/"
        },
        "id": "hUETJyvU_1di",
        "outputId": "5958a15c-fd67-4b4a-b179-7e06a03b045f"
      },
      "outputs": [
        {
          "name": "stdout",
          "output_type": "stream",
          "text": [
            "1\n",
            "2\n",
            "3\n",
            "4\n",
            "5\n",
            "-----\n",
            "1\n",
            "2\n",
            "3\n",
            "4\n",
            "5\n"
          ]
        }
      ],
      "source": [
        "for i in [1,2,3,4,5]:\n",
        "  print(i)\n",
        "\n",
        "print(\"-----\")\n",
        "\n",
        "# ou\n",
        "for i in range(1,6):\n",
        "  print(i)"
      ]
    },
    {
      "cell_type": "markdown",
      "metadata": {
        "id": "5vrW0z73Bq6A"
      },
      "source": [
        "### Ciclo while"
      ]
    },
    {
      "cell_type": "code",
      "execution_count": null,
      "metadata": {
        "colab": {
          "base_uri": "https://localhost:8080/"
        },
        "id": "FkkNUn0aAG-4",
        "outputId": "590a194f-f6b9-4a95-e09b-4bf4c98f2623"
      },
      "outputs": [
        {
          "name": "stdout",
          "output_type": "stream",
          "text": [
            "5\n",
            "4\n",
            "3\n",
            "2\n",
            "1\n"
          ]
        }
      ],
      "source": [
        "i = 5\n",
        "while i > 0:\n",
        "  print(i)\n",
        "  i -= 1 # Python não possui sintaxe ++/--"
      ]
    },
    {
      "cell_type": "markdown",
      "metadata": {
        "id": "M1DyHtluNjic"
      },
      "source": [
        "## Ler input do terminal"
      ]
    },
    {
      "cell_type": "code",
      "execution_count": 4,
      "metadata": {
        "colab": {
          "base_uri": "https://localhost:8080/"
        },
        "id": "bOw5LdsONpvX",
        "outputId": "b380caf7-6151-449b-a1da-86369b827ef3"
      },
      "outputs": [
        {
          "name": "stdout",
          "output_type": "stream",
          "text": [
            "<class 'str'>\n"
          ]
        },
        {
          "ename": "ValueError",
          "evalue": "invalid literal for int() with base 10: ''",
          "output_type": "error",
          "traceback": [
            "\u001b[0;31m---------------------------------------------------------------------------\u001b[0m",
            "\u001b[0;31mValueError\u001b[0m                                Traceback (most recent call last)",
            "Cell \u001b[0;32mIn[4], line 3\u001b[0m\n\u001b[1;32m      1\u001b[0m idade \u001b[38;5;241m=\u001b[39m \u001b[38;5;28minput\u001b[39m(\u001b[38;5;124m\"\u001b[39m\u001b[38;5;124mQuantos anos tens?\u001b[39m\u001b[38;5;124m\"\u001b[39m) \u001b[38;5;66;03m# que tipo devolve o input\u001b[39;00m\n\u001b[1;32m      2\u001b[0m \u001b[38;5;28mprint\u001b[39m(\u001b[38;5;28mtype\u001b[39m(idade))\n\u001b[0;32m----> 3\u001b[0m idade \u001b[38;5;241m=\u001b[39m \u001b[38;5;28;43mint\u001b[39;49m\u001b[43m(\u001b[49m\u001b[43midade\u001b[49m\u001b[43m)\u001b[49m\n\u001b[1;32m      4\u001b[0m \u001b[38;5;28mprint\u001b[39m(idade)\n",
            "\u001b[0;31mValueError\u001b[0m: invalid literal for int() with base 10: ''"
          ]
        }
      ],
      "source": [
        "idade = input(\"Quantos anos tens?\") # que tipo devolve o input\n",
        "print(type(idade))\n",
        "idade = int(idade)\n",
        "print(idade)"
      ]
    },
    {
      "cell_type": "markdown",
      "metadata": {
        "id": "LpoFdS4lpfjx"
      },
      "source": [
        "## Definição de funções\n",
        "\n",
        "Sintaxe:\n",
        "\n",
        "```\n",
        "def nome(arg1, arg2, ...):\n",
        "    instruções\n",
        "    [return resultado]\n",
        "```"
      ]
    },
    {
      "cell_type": "code",
      "execution_count": null,
      "metadata": {
        "colab": {
          "base_uri": "https://localhost:8080/"
        },
        "id": "FwlcsG1spfjx",
        "outputId": "1aa537c7-21ed-4a6e-8f4b-9d46243fbb32"
      },
      "outputs": [
        {
          "name": "stdout",
          "output_type": "stream",
          "text": [
            "19\n",
            "9\n"
          ]
        }
      ],
      "source": [
        "def add(a,b):\n",
        "    return a+b\n",
        "\n",
        "print(add(7,12))\n",
        "print(add(add(2,3),4))"
      ]
    },
    {
      "cell_type": "code",
      "execution_count": null,
      "metadata": {
        "colab": {
          "base_uri": "https://localhost:8080/"
        },
        "id": "uKC2flOrAc79",
        "outputId": "20a45c4e-f93b-4e6a-f755-015f8166f3de"
      },
      "outputs": [
        {
          "name": "stdout",
          "output_type": "stream",
          "text": [
            "120\n"
          ]
        }
      ],
      "source": [
        "def fact(n):\n",
        "  if n == 0: return 1\n",
        "  return n * fact(n - 1)\n",
        "\n",
        "print(fact(5))"
      ]
    },
    {
      "cell_type": "markdown",
      "metadata": {
        "id": "n5-_gOUcpfjx"
      },
      "source": [
        "### 1 - Exercício simples\n",
        "\n",
        "Especifique uma função, primeiro recursiva e depois iterativa, para calcular o resultado de elevar uma base a um determinado expoente.\n",
        "Depois escreva um programa que leia uma base B e dois expoentes Einf e Esup e imprima todas as potências de B entre Einf e Esup, usando uma das funções anteriores."
      ]
    },
    {
      "cell_type": "code",
      "execution_count": 13,
      "metadata": {
        "colab": {
          "base_uri": "https://localhost:8080/",
          "height": 373
        },
        "id": "n_I8HFuwpfjx",
        "outputId": "b80e916b-b94f-4d89-c34e-7a822cf194a0"
      },
      "outputs": [
        {
          "name": "stdout",
          "output_type": "stream",
          "text": [
            "Implementação recursiva:\n",
            "2^2 = 4\n",
            "2^3 = 8\n",
            "2^4 = 16\n",
            "\n",
            "Implementação iterativa:\n",
            "2^2 = 4\n",
            "2^3 = 8\n",
            "2^4 = 16\n"
          ]
        }
      ],
      "source": [
        "def pot_recursiva(b, e):\n",
        "    if(e == 0):\n",
        "        return 1\n",
        "    else: \n",
        "        return b * pot_recursiva(b, e-1)\n",
        "\n",
        "def pot_iterativa(b, e):\n",
        "    resultado = 1\n",
        "    for i in range(0, e):\n",
        "        resultado = resultado * b\n",
        "    return resultado\n",
        "\n",
        "base = int(input(\"Base: \"))\n",
        "einf = int(input(\"Expoente inferior: \"))\n",
        "esup = int(input(\"Expoente superior: \"))\n",
        "\n",
        "print(\"Implementação recursiva:\")\n",
        "for e in range(einf, esup + 1):\n",
        "  print(str(base) + \"^\" + str(e) + \" = \" + str(pot_recursiva(base, e)))\n",
        "  \n",
        "  \n",
        "print(\"\\nImplementação iterativa:\")\n",
        "for e in range(einf, esup + 1):\n",
        "  print(str(base) + \"^\" + str(e) + \" = \" + str(pot_iterativa(base, e)))\n",
        "\n"
      ]
    },
    {
      "cell_type": "markdown",
      "metadata": {
        "id": "kGWEDkMjL80p"
      },
      "source": [
        "## Tipos de dados estruturados:"
      ]
    },
    {
      "cell_type": "markdown",
      "metadata": {
        "id": "3cUF2puhpfjx"
      },
      "source": [
        "### TE1: Listas\n",
        "\n",
        "Uma lista é uma sequência finita e ordenada de elementos. Um elemento pode ser qualquer coisa."
      ]
    },
    {
      "cell_type": "markdown",
      "metadata": {
        "id": "N1MI0LE2pfjx"
      },
      "source": [
        "#### Construtores:"
      ]
    },
    {
      "cell_type": "code",
      "execution_count": null,
      "metadata": {
        "colab": {
          "base_uri": "https://localhost:8080/"
        },
        "id": "4Y9CQo26pfjy",
        "outputId": "b146d93e-c719-485a-c383-c858d30e38cd"
      },
      "outputs": [
        {
          "name": "stdout",
          "output_type": "stream",
          "text": [
            "<class 'range'>\n",
            "[2, 4, 6, 8]\n"
          ]
        }
      ],
      "source": [
        "# lista vazia\n",
        "l = [] # ou: l = list()\n",
        "# lista homogénea\n",
        "l2 = [1,2,3,4,5]\n",
        "# lista heterogénea\n",
        "l3 = [11, \"onze\", 12, \"doze\"]\n",
        "# lista a partir de *range*\n",
        "l4 = list(range(1,11))\n",
        "# range != lista\n",
        "print(type(range(1,11)))\n",
        "\n",
        "# listas por compreensão\n",
        "l5 = [x for x in range(1,10) if x % 2 == 0]\n",
        "print(l5)\n"
      ]
    },
    {
      "cell_type": "markdown",
      "metadata": {
        "id": "ozB9pFRMpfjy"
      },
      "source": [
        "#### Comprimento"
      ]
    },
    {
      "cell_type": "code",
      "execution_count": null,
      "metadata": {
        "colab": {
          "base_uri": "https://localhost:8080/"
        },
        "id": "YWy9Cy6qpfjy",
        "outputId": "c4367494-c5f1-4b62-f9ab-5e730d43234a"
      },
      "outputs": [
        {
          "name": "stdout",
          "output_type": "stream",
          "text": [
            "5\n"
          ]
        }
      ],
      "source": [
        "vogais = ['a', 'e', 'i', 'o', 'u']\n",
        "print(len(vogais))"
      ]
    },
    {
      "cell_type": "markdown",
      "metadata": {
        "id": "HEfTWjWIpfjz"
      },
      "source": [
        "#### _in_ e _not in_"
      ]
    },
    {
      "cell_type": "code",
      "execution_count": null,
      "metadata": {
        "colab": {
          "base_uri": "https://localhost:8080/"
        },
        "id": "L0_cL5Lspfjz",
        "outputId": "adf79efa-f283-4132-85a3-4394745f24d0"
      },
      "outputs": [
        {
          "name": "stdout",
          "output_type": "stream",
          "text": [
            "[True, True, False, True, False]\n"
          ]
        }
      ],
      "source": [
        "texto = \"HELOASQTS-+\"\n",
        "texto = texto.lower()\n",
        "vogaisPresentes = []\n",
        "vogais=\"aeiou\"\n",
        "for v in vogais:\n",
        "    if v not in texto:\n",
        "        vogaisPresentes.append(False)\n",
        "    else:\n",
        "        vogaisPresentes.append(True)\n",
        "print(vogaisPresentes)"
      ]
    },
    {
      "cell_type": "markdown",
      "metadata": {
        "id": "SnhpsjQNpfjz"
      },
      "source": [
        "#### Acrescentar elementos a uma lista"
      ]
    },
    {
      "cell_type": "code",
      "execution_count": null,
      "metadata": {
        "colab": {
          "base_uri": "https://localhost:8080/"
        },
        "id": "aKaKI7topfj0",
        "outputId": "6bd6bb5e-8859-4acc-c227-0ec1f39ab7c3"
      },
      "outputs": [
        {
          "name": "stdout",
          "output_type": "stream",
          "text": [
            "[0, 2, 4, 6, 8, 10, 12, 14, 16, 18, 20, 22, 24, 26, 28, 30, 32, 34, 36, 38, 40, 42, 44, 46, 48, 50, 52, 54, 56, 58, 60, 62, 64, 66, 68, 70, 72, 74, 76, 78, 80, 82, 84, 86, 88, 90, 92, 94, 96, 98, 100]\n"
          ]
        },
        {
          "data": {
            "text/plain": [
              "[0,\n",
              " 2,\n",
              " 4,\n",
              " 6,\n",
              " 8,\n",
              " 10,\n",
              " 12,\n",
              " 14,\n",
              " 16,\n",
              " 18,\n",
              " 20,\n",
              " 22,\n",
              " 24,\n",
              " 26,\n",
              " 28,\n",
              " 30,\n",
              " 32,\n",
              " 34,\n",
              " 36,\n",
              " 38,\n",
              " 40,\n",
              " 42,\n",
              " 44,\n",
              " 46,\n",
              " 48,\n",
              " 50,\n",
              " 52,\n",
              " 54,\n",
              " 56,\n",
              " 58,\n",
              " 60,\n",
              " 62,\n",
              " 64,\n",
              " 66,\n",
              " 68,\n",
              " 70,\n",
              " 72,\n",
              " 74,\n",
              " 76,\n",
              " 78,\n",
              " 80,\n",
              " 82,\n",
              " 84,\n",
              " 86,\n",
              " 88,\n",
              " 90,\n",
              " 92,\n",
              " 94,\n",
              " 96,\n",
              " 98,\n",
              " 100]"
            ]
          },
          "execution_count": 22,
          "metadata": {},
          "output_type": "execute_result"
        }
      ],
      "source": [
        "pares100 = []\n",
        "i = 0\n",
        "while i <= 100:\n",
        "  if i % 2 == 0:\n",
        "    pares100.append(i)\n",
        "  i += 1\n",
        "print(pares100)\n",
        "\n",
        "[x for x in range(0,101) if x % 2 == 0]"
      ]
    },
    {
      "cell_type": "markdown",
      "metadata": {
        "id": "07hhFOjFpfj0"
      },
      "source": [
        "#### Apagar o conteúdo duma lista"
      ]
    },
    {
      "cell_type": "code",
      "execution_count": null,
      "metadata": {
        "colab": {
          "base_uri": "https://localhost:8080/"
        },
        "id": "LqS3Wq89pfj0",
        "outputId": "6dd01ddf-fe54-4d91-b374-41f0d179af3b"
      },
      "outputs": [
        {
          "name": "stdout",
          "output_type": "stream",
          "text": [
            "2\n",
            "[0, 4, 6, 8, 10, 12, 14, 16, 18, 20, 22, 24, 26, 28, 30, 32, 34, 36, 38, 40, 42, 44, 46, 48, 50, 52, 54, 56, 58, 60, 62, 64, 66, 68, 70, 72, 74, 76, 78, 80, 82, 84, 86, 88, 90, 92, 94, 96, 98, 100]\n",
            "[]\n"
          ]
        }
      ],
      "source": [
        "print(pares100.pop(1))\n",
        "print(pares100)\n",
        "\n",
        "pares100.clear()\n",
        "print(pares100)"
      ]
    },
    {
      "cell_type": "markdown",
      "metadata": {
        "id": "U1dSeur5pfj0"
      },
      "source": [
        "#### Copiar uma lista"
      ]
    },
    {
      "cell_type": "code",
      "execution_count": null,
      "metadata": {
        "colab": {
          "base_uri": "https://localhost:8080/"
        },
        "id": "TILGpcwApfj0",
        "outputId": "2b1af519-e0ad-4f97-e5da-607524276bcf"
      },
      "outputs": [
        {
          "name": "stdout",
          "output_type": "stream",
          "text": [
            "['vermelho', 'verde', 'azul', 'amarelo']\n",
            "1\n"
          ]
        }
      ],
      "source": [
        "cores = [\"vermelho\", \"verde\", \"azul\"]\n",
        "cores2 = cores.copy() + [\"amarelo\"]\n",
        "print(cores2)\n",
        "print(cores2.index(\"verde\"))"
      ]
    },
    {
      "cell_type": "code",
      "execution_count": null,
      "metadata": {
        "colab": {
          "base_uri": "https://localhost:8080/"
        },
        "id": "JuUYG8uIpfj0",
        "outputId": "5567c3e2-3263-47a6-bfe5-c01b0f468355"
      },
      "outputs": [
        {
          "name": "stdout",
          "output_type": "stream",
          "text": [
            "0: vermelho\n",
            "1: verde\n",
            "2: azul\n",
            "3: amarelo\n"
          ]
        }
      ],
      "source": [
        "for i, cor in enumerate(cores2):\n",
        "    print(str(i) + \": \" + cor)"
      ]
    },
    {
      "cell_type": "markdown",
      "metadata": {
        "id": "pxfdSJTUpfj0"
      },
      "source": [
        "#### Inserir um elemento numa determinada posição"
      ]
    },
    {
      "cell_type": "code",
      "execution_count": null,
      "metadata": {
        "colab": {
          "base_uri": "https://localhost:8080/"
        },
        "id": "U16byQ7rpfj0",
        "outputId": "27f10ffa-65c4-4f34-dd32-7455f175cd20"
      },
      "outputs": [
        {
          "name": "stdout",
          "output_type": "stream",
          "text": [
            "['vermelho', 'roxo', 'verde', 'azul', 'amarelo']\n"
          ]
        }
      ],
      "source": [
        "cores2.insert(1, \"roxo\")\n",
        "print(cores2)"
      ]
    },
    {
      "cell_type": "markdown",
      "metadata": {
        "id": "N96rbo-Spfj1"
      },
      "source": [
        "#### Remover a primeira ocorrência de um elemento"
      ]
    },
    {
      "cell_type": "code",
      "execution_count": null,
      "metadata": {
        "colab": {
          "base_uri": "https://localhost:8080/"
        },
        "id": "oquS-D0cpfj1",
        "outputId": "2cd8988d-22f9-49ef-f584-f648a404f5e6"
      },
      "outputs": [
        {
          "name": "stdout",
          "output_type": "stream",
          "text": [
            "['vermelho', 'roxo', 'azul', 'amarelo', 'verde', 'verde', 'verde', 'verde', 'verde', 'verde']\n",
            "['vermelho', 'roxo', 'azul', 'amarelo', 'verde', 'verde', 'verde', 'verde', 'verde']\n"
          ]
        }
      ],
      "source": [
        "cores2 = cores2 + [\"verde\", \"verde\"]\n",
        "print(cores2)\n",
        "cores2.remove(\"verde\")\n",
        "print(cores2)"
      ]
    },
    {
      "cell_type": "markdown",
      "metadata": {
        "id": "w96jHO5Hpfj1"
      },
      "source": [
        "#### Ordem e ordenação"
      ]
    },
    {
      "cell_type": "code",
      "execution_count": null,
      "metadata": {
        "colab": {
          "base_uri": "https://localhost:8080/"
        },
        "id": "Vvcc-kv2pfj1",
        "outputId": "dc524cb7-4e9a-46ae-aef8-928498c58561"
      },
      "outputs": [
        {
          "name": "stdout",
          "output_type": "stream",
          "text": [
            "[1, 2, 3, 4, 5, 6, 7, 8, 9, 10, 11, 12, 13, 14, 15, 16, 17, 18, 19, 20]\n",
            "[20, 19, 18, 17, 16, 15, 14, 13, 12, 11, 10, 9, 8, 7, 6, 5, 4, 3, 2, 1]\n",
            "[1, 2, 3, 4, 5, 6, 7, 8, 9, 10, 11, 12, 13, 14, 15, 16, 17, 18, 19, 20]\n"
          ]
        }
      ],
      "source": [
        "lista = [x for x in range(1,21)]\n",
        "print(lista)\n",
        "lista.reverse()\n",
        "print(lista)\n",
        "lista.sort()\n",
        "print(lista)"
      ]
    },
    {
      "cell_type": "markdown",
      "metadata": {
        "id": "c42ublQOGEbq"
      },
      "source": [
        "#### 2 - Exercício: maior elemento de uma lista"
      ]
    },
    {
      "cell_type": "code",
      "execution_count": null,
      "metadata": {
        "colab": {
          "base_uri": "https://localhost:8080/"
        },
        "id": "mzKlwh6oGROO",
        "outputId": "7db77f2c-8bfc-4800-e9f6-358df1924d18"
      },
      "outputs": [
        {
          "name": "stdout",
          "output_type": "stream",
          "text": [
            "5\n"
          ]
        }
      ],
      "source": [
        "def maior(lista):\n",
        "  pass\n",
        "\n",
        "print(maior([4,2,5,1,3]))"
      ]
    },
    {
      "cell_type": "markdown",
      "metadata": {
        "id": "xrODVJ71pfj2"
      },
      "source": [
        "### TE2: Tuplos\n",
        "\n",
        "Tuplos podem conter elementos de qualquer tipo, mas o seu comprimento não pode ser alterado."
      ]
    },
    {
      "cell_type": "markdown",
      "metadata": {
        "id": "KbNf6Db5pfj2"
      },
      "source": [
        "#### Construtores: (), tuple()"
      ]
    },
    {
      "cell_type": "code",
      "execution_count": 15,
      "metadata": {
        "id": "HqG7nCZNpfj2"
      },
      "outputs": [],
      "source": [
        "estudante1 = (\"Jane Doe\", \"A00000\", \"ENGINF\", 21, False, True, True, False)\n",
        "coordenadas = tuple([39, 9])"
      ]
    },
    {
      "cell_type": "markdown",
      "metadata": {
        "id": "TSDccOh0pfj2"
      },
      "source": [
        "#### Acesso"
      ]
    },
    {
      "cell_type": "code",
      "execution_count": 16,
      "metadata": {
        "colab": {
          "base_uri": "https://localhost:8080/"
        },
        "id": "uCG9Pbd_pfj3",
        "outputId": "2bc22c1b-76ae-4283-9128-6aae10bfa060"
      },
      "outputs": [
        {
          "name": "stdout",
          "output_type": "stream",
          "text": [
            "ENGINF\n"
          ]
        }
      ],
      "source": [
        "curso1 = estudante1[2]\n",
        "print(curso1)"
      ]
    },
    {
      "cell_type": "markdown",
      "metadata": {
        "id": "fgfBp_Gzpfj3"
      },
      "source": [
        "#### Acesso com desmembramento (unfold/unpack)"
      ]
    },
    {
      "cell_type": "code",
      "execution_count": 17,
      "metadata": {
        "colab": {
          "base_uri": "https://localhost:8080/"
        },
        "id": "Jbz4eK9hpfj3",
        "outputId": "a6acde86-5554-475a-b413-4636ae0413c3"
      },
      "outputs": [
        {
          "name": "stdout",
          "output_type": "stream",
          "text": [
            "A00000: Jane Doe\n",
            "[False, True, True, False]\n"
          ]
        }
      ],
      "source": [
        "nome, id, curso, idade, *presencas = estudante1\n",
        "print(id + \": \" + nome)\n",
        "print(presencas)"
      ]
    },
    {
      "cell_type": "markdown",
      "metadata": {
        "id": "hbyiAdGopfj3"
      },
      "source": [
        "#### Testar se um valor está no tuplo"
      ]
    },
    {
      "cell_type": "code",
      "execution_count": 18,
      "metadata": {
        "colab": {
          "base_uri": "https://localhost:8080/"
        },
        "id": "iQIwhgjtpfj3",
        "outputId": "bb0717d5-e25a-49e0-ba5a-8b520f31ccf5"
      },
      "outputs": [
        {
          "name": "stdout",
          "output_type": "stream",
          "text": [
            "Faltou pelo menos uma vez!\n"
          ]
        }
      ],
      "source": [
        "if False in estudante1:\n",
        "    print(\"Faltou pelo menos uma vez!\")"
      ]
    },
    {
      "cell_type": "markdown",
      "metadata": {
        "id": "JpiSU5wcIGoP"
      },
      "source": [
        "Para remover um elemento de um tuplo, precisamos de criar um tuplo novo."
      ]
    },
    {
      "cell_type": "markdown",
      "metadata": {
        "id": "s5Y6kLehpfj5"
      },
      "source": [
        "#### 3 - Exercício: unzip\n",
        "\n",
        "A partir de uma lista de tuplos, define duas listas."
      ]
    },
    {
      "cell_type": "code",
      "execution_count": 28,
      "metadata": {
        "colab": {
          "base_uri": "https://localhost:8080/"
        },
        "id": "uuDsGXebpfj5",
        "outputId": "4b3f8469-60ff-4931-9863-5cd3910c0f06"
      },
      "outputs": [
        {
          "name": "stdout",
          "output_type": "stream",
          "text": [
            "[1, 2, 3, 4]\n",
            "['banana', 'maçã', 'melancia', 'cereja']\n"
          ]
        }
      ],
      "source": [
        "def unzip(l):\n",
        "  l1 = []\n",
        "  l2 = []\n",
        "  for num, fruta in l:\n",
        "    l1.append(num)\n",
        "    l2.append(fruta)\n",
        "  return (l1,l2)\n",
        "  \n",
        "\n",
        "lista = [(1, \"banana\"), (2, \"maçã\"), (3, \"melancia\"), (4, \"cereja\")]\n",
        "\n",
        "(unzipped1, unzipped2) = unzip(lista)\n",
        "print(unzipped1)\n",
        "print(unzipped2)"
      ]
    },
    {
      "cell_type": "markdown",
      "metadata": {
        "id": "JyP-73aZpfj5"
      },
      "source": [
        "### TE3: Dicionários\n",
        "\n",
        "#### Construtores: {}, dict()"
      ]
    },
    {
      "cell_type": "code",
      "execution_count": null,
      "metadata": {
        "colab": {
          "base_uri": "https://localhost:8080/"
        },
        "id": "g-DdhKx9pfj5",
        "outputId": "9438e632-727a-40ce-aee2-7eaf3f2511b3"
      },
      "outputs": [
        {
          "name": "stdout",
          "output_type": "stream",
          "text": [
            "{'Python': True}\n",
            "{'Python': 6, 'Haskell': 15, 'Web': {'HTML': 20, 'CSS': 13}}\n",
            "13\n",
            "{1: 'banana', 2: 'maçã', 3: 'melancia', 4: 'cereja'}\n"
          ]
        }
      ],
      "source": [
        "d1 = dict()\n",
        "d1[\"Python\"] = True\n",
        "print(d1)\n",
        "\n",
        "d2 = {\"Python\" : 6, \"Haskell\" : 15, \"Web\" : { \"HTML\" : 20, \"CSS\": 13}}\n",
        "print(d2)\n",
        "print(d2[\"Web\"][\"CSS\"])\n",
        "\n",
        "# a partir de uma lista de tuplos\n",
        "d3 = dict([(1, \"banana\"), (2, \"maçã\"), (3, \"melancia\"), (4, \"cereja\")])\n",
        "print(d3)"
      ]
    },
    {
      "cell_type": "markdown",
      "metadata": {
        "id": "TDlYO-sGpfj5"
      },
      "source": [
        "#### Acesso"
      ]
    },
    {
      "cell_type": "code",
      "execution_count": null,
      "metadata": {
        "colab": {
          "base_uri": "https://localhost:8080/"
        },
        "id": "Z-fhPKOVpfj5",
        "outputId": "e2f18bd3-3bf6-4050-a31c-aaf214290ecd"
      },
      "outputs": [
        {
          "name": "stdout",
          "output_type": "stream",
          "text": [
            "6\n",
            "Não existe!\n"
          ]
        }
      ],
      "source": [
        "compras = {'maçã': 5, 'laranja':6, 'banana': 7}\n",
        "print(compras['laranja'])\n",
        "print(compras.get('melancia', \"Não existe!\"))"
      ]
    },
    {
      "cell_type": "markdown",
      "metadata": {
        "id": "MX_YAXr0pfj6"
      },
      "source": [
        "#### Extrair chaves"
      ]
    },
    {
      "cell_type": "code",
      "execution_count": null,
      "metadata": {
        "colab": {
          "base_uri": "https://localhost:8080/"
        },
        "id": "RQgCy2cnpfj6",
        "outputId": "b9481bda-facb-4ec0-aa99-f5be70d1341f"
      },
      "outputs": [
        {
          "name": "stdout",
          "output_type": "stream",
          "text": [
            "dict_keys(['LCC', 'ENGBIOM', 'LEI', 'ENGFIS'])\n"
          ]
        }
      ],
      "source": [
        "distrib = {\"LCC\": 23, \"ENGBIOM\": 35, \"LEI\": 32, \"ENGFIS\": 17}\n",
        "chaves = distrib.keys()\n",
        "print(chaves)"
      ]
    },
    {
      "cell_type": "markdown",
      "metadata": {
        "id": "dxwP_Ugipfj6"
      },
      "source": [
        "#### Extrair valores"
      ]
    },
    {
      "cell_type": "code",
      "execution_count": null,
      "metadata": {
        "colab": {
          "base_uri": "https://localhost:8080/"
        },
        "id": "j1piqZNvpfj6",
        "outputId": "2d7547c7-c74b-4b0f-cb5c-463e0729c0fc"
      },
      "outputs": [
        {
          "name": "stdout",
          "output_type": "stream",
          "text": [
            "dict_values([23, 35, 32, 17])\n"
          ]
        }
      ],
      "source": [
        "distrib = {\"LCC\": 23, \"ENGBIOM\": 35, \"LEI\": 32, \"ENGFIS\": 17}\n",
        "valores = distrib.values()\n",
        "print(valores)"
      ]
    },
    {
      "cell_type": "markdown",
      "metadata": {
        "id": "cZcUFX7Mpfj6"
      },
      "source": [
        "#### Concatenar dicionários"
      ]
    },
    {
      "cell_type": "code",
      "execution_count": null,
      "metadata": {
        "colab": {
          "base_uri": "https://localhost:8080/"
        },
        "id": "0v8AdK26pfj7",
        "outputId": "0f6f24fe-a764-44fa-b826-a71abd642ab2"
      },
      "outputs": [
        {
          "name": "stdout",
          "output_type": "stream",
          "text": [
            "{'cenouras': 6, 'batatas': 20, 'cebolas': 12, 'tangerina': 30, 'pêras': 8, 'bananas': 6, 'romãs': 2, 'fiambre': 10, 'queijo': 16, 'chouriço': 1}\n"
          ]
        }
      ],
      "source": [
        "legumes = {\"cenouras\": 6, \"batatas\":20, \"cebolas\": 12}\n",
        "frutas = {\"tangerina\": 30, \"pêras\":8, \"bananas\": 6, \"romãs\": 2}\n",
        "charcutaria = {\"fiambre\": 10, \"queijo\": 16, \"chouriço\": 1}\n",
        "listaCompras = legumes.copy()\n",
        "listaCompras.update(frutas)\n",
        "listaCompras.update(charcutaria)\n",
        "print(listaCompras)"
      ]
    },
    {
      "cell_type": "code",
      "execution_count": null,
      "metadata": {
        "colab": {
          "base_uri": "https://localhost:8080/"
        },
        "id": "Uj6D5ssGpfj7",
        "outputId": "1d26b63c-2cbb-4d55-bab6-56129f7522c9"
      },
      "outputs": [
        {
          "name": "stdout",
          "output_type": "stream",
          "text": [
            "{'cenouras': 6, 'batatas': 20, 'cebolas': 12, 'tangerina': 30, 'pêras': 8, 'bananas': 6, 'romãs': 2, 'fiambre': 10, 'queijo': 16, 'chouriço': 1}\n"
          ]
        }
      ],
      "source": [
        "legumes = {\"cenouras\": 6, \"batatas\":20, \"cebolas\": 12}\n",
        "frutas = {\"tangerina\": 30, \"pêras\":8, \"bananas\": 6, \"romãs\": 2}\n",
        "charcutaria = {\"fiambre\": 10, \"queijo\": 16, \"chouriço\": 1}\n",
        "listaCompras = {}\n",
        "for chave in legumes.keys():\n",
        "    listaCompras[chave] = legumes[chave]\n",
        "for chave in frutas.keys():\n",
        "    listaCompras[chave] = frutas[chave]\n",
        "for chave in charcutaria:\n",
        "    listaCompras[chave] = charcutaria[chave]\n",
        "print(listaCompras)"
      ]
    },
    {
      "cell_type": "markdown",
      "metadata": {
        "id": "4nmM1G2Fpfj7"
      },
      "source": [
        "#### Verificar se uma chave está no dicionário"
      ]
    },
    {
      "cell_type": "code",
      "execution_count": null,
      "metadata": {
        "id": "Dtx8PcvEpfj7"
      },
      "outputs": [],
      "source": [
        "def pertenceChave(c, d):\n",
        "    return (c in d)"
      ]
    },
    {
      "cell_type": "code",
      "execution_count": null,
      "metadata": {
        "colab": {
          "base_uri": "https://localhost:8080/",
          "height": 199
        },
        "id": "i5f0Blpjpfj7",
        "outputId": "56bd4ee2-fa63-4b67-b6de-fcd4598698cc"
      },
      "outputs": [
        {
          "ename": "NameError",
          "evalue": "name 'listaCompras' is not defined",
          "output_type": "error",
          "traceback": [
            "\u001b[0;31m---------------------------------------------------------------------------\u001b[0m",
            "\u001b[0;31mNameError\u001b[0m                                 Traceback (most recent call last)",
            "\u001b[0;32m<ipython-input-3-f1ca9cc45193>\u001b[0m in \u001b[0;36m<cell line: 1>\u001b[0;34m()\u001b[0m\n\u001b[0;32m----> 1\u001b[0;31m \u001b[0mprint\u001b[0m\u001b[0;34m(\u001b[0m\u001b[0mpertenceChave\u001b[0m\u001b[0;34m(\u001b[0m\u001b[0;34m\"bananas\"\u001b[0m\u001b[0;34m,\u001b[0m \u001b[0mlistaCompras\u001b[0m\u001b[0;34m)\u001b[0m\u001b[0;34m)\u001b[0m\u001b[0;34m\u001b[0m\u001b[0;34m\u001b[0m\u001b[0m\n\u001b[0m\u001b[1;32m      2\u001b[0m \u001b[0mprint\u001b[0m\u001b[0;34m(\u001b[0m\u001b[0mpertenceChave\u001b[0m\u001b[0;34m(\u001b[0m\u001b[0;34m\"beterrabas\"\u001b[0m\u001b[0;34m,\u001b[0m \u001b[0mlistaCompras\u001b[0m\u001b[0;34m)\u001b[0m\u001b[0;34m)\u001b[0m\u001b[0;34m\u001b[0m\u001b[0;34m\u001b[0m\u001b[0m\n",
            "\u001b[0;31mNameError\u001b[0m: name 'listaCompras' is not defined"
          ]
        }
      ],
      "source": [
        "print(pertenceChave(\"bananas\", listaCompras))\n",
        "print(pertenceChave(\"beterrabas\", listaCompras))"
      ]
    },
    {
      "cell_type": "markdown",
      "metadata": {
        "id": "LXsioKqepfj8"
      },
      "source": [
        "#### 4 - Exercício:\n",
        "\n",
        "Escreve um programa em Python que leia um número inteiro positivo e crie um dicionário com chaves de 1 até esse número, em que o valor associado a cada chave é o quadrado dessa chave."
      ]
    },
    {
      "cell_type": "code",
      "execution_count": 24,
      "metadata": {
        "colab": {
          "base_uri": "https://localhost:8080/"
        },
        "id": "LZyYn2UPpfj8",
        "outputId": "9331cb31-756c-4583-c590-850538e6c024"
      },
      "outputs": [
        {
          "name": "stdout",
          "output_type": "stream",
          "text": [
            "{1: 1, 2: 4, 3: 9, 4: 16, 5: 25}\n"
          ]
        }
      ],
      "source": [
        "v = int(input(\"introduz um valor: \"))\n",
        "\n",
        "d = {}\n",
        "\n",
        "for i in range(1,v+1):\n",
        "    d[i] = i*i\n",
        "\n",
        "print(d)"
      ]
    },
    {
      "cell_type": "markdown",
      "metadata": {
        "id": "wCFkeKNtMAhA"
      },
      "source": [
        "## Conceitos de Programação Funcional\n",
        "\n",
        "Em certas situações, poderá ser preferível ou até mais eficiente usar funções de ordem superior em vez de algoritmos iterativos ou compreensão de listas."
      ]
    },
    {
      "cell_type": "markdown",
      "metadata": {
        "id": "zRLkFty6E4PH"
      },
      "source": [
        "### Map"
      ]
    },
    {
      "cell_type": "code",
      "execution_count": null,
      "metadata": {
        "colab": {
          "base_uri": "https://localhost:8080/"
        },
        "id": "g5ghmB-aMD0q",
        "outputId": "10f95867-cdba-4ff6-e976-e54998cc5f51"
      },
      "outputs": [
        {
          "name": "stdout",
          "output_type": "stream",
          "text": [
            "<map object at 0x7feceb1fb730>\n",
            "[2, 4, 6, 8, 10]\n"
          ]
        }
      ],
      "source": [
        "dobros = map(lambda x: x * 2, range(1,6))\n",
        "print(dobros) # funções como a map são preguiçosas, ou seja, só processam os\n",
        "              # seus valores quando estes são necessários\n",
        "print(list(dobros)) # forçamos o map a processar os valores, colocando-os numa lista"
      ]
    },
    {
      "cell_type": "markdown",
      "metadata": {
        "id": "2Dx-0H3mE5nI"
      },
      "source": [
        "### Filter"
      ]
    },
    {
      "cell_type": "code",
      "execution_count": null,
      "metadata": {
        "colab": {
          "base_uri": "https://localhost:8080/"
        },
        "id": "9XGZhgzOMSwy",
        "outputId": "17b488b7-1bac-46d8-b1cf-10a3f4b1587a"
      },
      "outputs": [
        {
          "name": "stdout",
          "output_type": "stream",
          "text": [
            "[2, 4, 6, 8, 10]\n"
          ]
        }
      ],
      "source": [
        "def isEven(n):\n",
        "  return n % 2 == 0\n",
        "\n",
        "evens = filter(isEven, range(1,11))\n",
        "print(list(evens))"
      ]
    },
    {
      "cell_type": "markdown",
      "metadata": {
        "id": "tBKVmGNFE65i"
      },
      "source": [
        "### Fold / reduce"
      ]
    },
    {
      "cell_type": "code",
      "execution_count": null,
      "metadata": {
        "colab": {
          "base_uri": "https://localhost:8080/"
        },
        "id": "fsd9KSWKMh6R",
        "outputId": "b90ae514-ea87-401d-efb8-f75aa1f27963"
      },
      "outputs": [
        {
          "name": "stdout",
          "output_type": "stream",
          "text": [
            "O maior elemento é: 6\n"
          ]
        }
      ],
      "source": [
        "from functools import reduce\n",
        "\n",
        "lista = [3,5,4,6,1,2]\n",
        "maior = lista[0]\n",
        "print(\"O maior elemento é:\", reduce(lambda acc, x: x if x > acc else acc, lista, maior))\n",
        "# reduce(function, sequence[, initial]) é equivalente ao `foldl` de Haskell"
      ]
    },
    {
      "cell_type": "markdown",
      "metadata": {
        "id": "qnEbPLd2Nghs"
      },
      "source": [
        "## Input e Output de ficheiros"
      ]
    },
    {
      "cell_type": "markdown",
      "metadata": {
        "id": "2UR1RUBmN5gI"
      },
      "source": [
        "Modos de abertura de um ficheiro:\n",
        "* \"r\" - Read - Valor por omissão. Abre o ficheiro para leitura, devolve error se o ficheiro não existir;\n",
        "* \"a\" - Append - Abre o ficheiro para acrescentar, cria o ficheiro se este não existir;\n",
        "* \"w\" - Write - Abre o ficheiro para escrever, cria o ficheiro se este não existir, apaga o conteúdo se este existir;\n",
        "* \"x\" - Create - Cria o ficheiro, devolve error se o ficheiro já existir.\n",
        "\n",
        "Parâmetro adicional ao modo:\n",
        "* \"t\" - Text - Valor por omissão. Ficheiro textual;\n",
        "* \"b\" - Binary - Ficheiro binário, por exemplo, imagens."
      ]
    },
    {
      "cell_type": "code",
      "execution_count": null,
      "metadata": {
        "id": "pLJRPs3JN7lI"
      },
      "outputs": [],
      "source": [
        "f = open(\"input.txt\", \"rt\")\n",
        "content = f.read() # string\n",
        "\n",
        "f.close() # Não esquecer de fechar o ficheiro"
      ]
    },
    {
      "cell_type": "markdown",
      "metadata": {
        "id": "E0yd830HyZnu"
      },
      "source": [
        "### Ler linha a linha dum ficheiro"
      ]
    },
    {
      "cell_type": "code",
      "execution_count": null,
      "metadata": {
        "id": "m0HxgiGEygRv"
      },
      "outputs": [],
      "source": [
        "f = open(\"sample_data/anscombe.json\")\n",
        "for linha in f:\n",
        "  print(linha)"
      ]
    },
    {
      "cell_type": "markdown",
      "metadata": {
        "id": "YVStKrIvzA8S"
      },
      "source": [
        "### Ler a primeira e a segunda linha de um ficheiro"
      ]
    },
    {
      "cell_type": "code",
      "execution_count": null,
      "metadata": {
        "id": "OP46l5fEzH7u"
      },
      "outputs": [],
      "source": [
        "f = open(\"input.txt\")\n",
        "linha1 = f.readline()\n",
        "linha2 = f.readline()"
      ]
    },
    {
      "cell_type": "markdown",
      "metadata": {
        "id": "pshJNCFMyzJH"
      },
      "source": [
        "### Ler o ficheiro de uma vez"
      ]
    },
    {
      "cell_type": "code",
      "execution_count": null,
      "metadata": {
        "id": "2jsInz96OPqo"
      },
      "outputs": [],
      "source": [
        "with open(\"input.txt\") as f:\n",
        "  content = f.read()"
      ]
    },
    {
      "cell_type": "markdown",
      "metadata": {
        "id": "w0WFl0SMy5YC"
      },
      "source": [
        "### Escrever no ficheiro"
      ]
    },
    {
      "cell_type": "code",
      "execution_count": null,
      "metadata": {
        "id": "LtDXdL0SOjee"
      },
      "outputs": [],
      "source": [
        "with open(\"output.txt\", \"w\") as f:\n",
        "  f.write(\"O ficheiro só vai ter esta linha de texto.\")"
      ]
    },
    {
      "cell_type": "markdown",
      "metadata": {
        "id": "rMaFgNA_wS2a"
      },
      "source": [
        "### Ler do stdin\n",
        "Muitos dos programas nesta UC devem ler do stdin (canal de entrada do SO).\n"
      ]
    },
    {
      "cell_type": "code",
      "execution_count": null,
      "metadata": {
        "id": "BtQ4H_Bdwx0A"
      },
      "outputs": [],
      "source": [
        "import sys\n",
        "\n",
        "for linha in sys.stdin:\n",
        "  print(linha)"
      ]
    },
    {
      "cell_type": "markdown",
      "metadata": {
        "id": "ItXfVpIJGCE8"
      },
      "source": [
        "## F-strings\n",
        "\n",
        "A forma mais fácil de imprimir strings formatadas em Python é através de f-strings.\n",
        "\n",
        "Apenas colocamos um `f` antes das aspas iniciais e podemos inserir variáveis diretamente dentro de uma string com chavetas."
      ]
    },
    {
      "cell_type": "code",
      "execution_count": null,
      "metadata": {
        "colab": {
          "base_uri": "https://localhost:8080/"
        },
        "id": "ayS6h6L7GL5V",
        "outputId": "cb472f4a-d70a-4eb8-b485-fc70c9964a92"
      },
      "outputs": [
        {
          "name": "stdout",
          "output_type": "stream",
          "text": [
            "A soma de 5 com 8 é 13.\n",
            "01.67\n"
          ]
        }
      ],
      "source": [
        "num1 = 5\n",
        "num2 = 8\n",
        "\n",
        "print(f\"A soma de {num1} com {num2} é {num1 + num2}.\")\n",
        "print(f\"{5/3:05.3}\")"
      ]
    },
    {
      "cell_type": "markdown",
      "metadata": {
        "id": "ZM5r5Lta0kxb"
      },
      "source": [
        "# Exercícios"
      ]
    },
    {
      "cell_type": "markdown",
      "metadata": {
        "id": "mGBEWRrN0qo9"
      },
      "source": [
        "**1**\n",
        "Partindo do dataset [alunos.csv](https://epl.di.uminho.pt/~jcr/AULAS/ATP2021/datasets/alunos.csv) :\n",
        "1. Leia e imprima todas as entradas do ficheiro csv\n",
        "2. Crie uma função que verifique quantas linhas tem o ficheiro\n",
        "3. Crie um dicionário para albergar todas as informações relativas a um aluno com o formato:\n",
        "{\n",
        "id_aluno : (\n",
        "notas:[TPC1,TPC,TPC3,TPC4],\n",
        "nome:\"NOME\",\n",
        "curso:\"CURSO\"\n",
        ")\n",
        "}\n",
        "\n",
        "  3.1 Quais os alunos com melhor média ?\n",
        "\n",
        "  3.2 Quantos alunos de LEI tem a média dos tpcs superior a 15?\n",
        "\n",
        "**2**\n",
        "Partindo do dataset [cinema.json](https://epl.di.uminho.pt/~jcr/AULAS/ATP2021/datasets/cinemaATP.json) :\n",
        "1. Carregue a informação presente no dataset para uma estrutura à sua escolha\n",
        "2. Crie diferentes funções de maneira a que seja possível\n",
        "  1. Consultar um filme na base de dados: a partir do id ou a partir do título, por exemplo \"Todos os filmes com a palavra office no título;\n",
        "  2. Listar todos os filmes por ordem alfabética de título;\n",
        "  3. Listar todos os filmes de um determinado género;\n",
        "  4. Listar todos os filmes de um determinado ator;\n",
        "  5. Produzir os seguintes indicadores estatísticos:\n",
        "     1. Quantos filmes existem na BD?\n",
        "     2. Qual a distribuição dos filmes por género?\n",
        "     3. Qual a distribuição de filmes por ator (apenas o top10)?\n",
        "\n"
      ]
    },
    {
      "cell_type": "markdown",
      "metadata": {
        "id": "OtAA-HGn7sxK"
      },
      "source": [
        "## Notas de apoio para trabalhar com ficheiros csv e json"
      ]
    },
    {
      "cell_type": "code",
      "execution_count": null,
      "metadata": {
        "id": "_i6jZHdBSzUk"
      },
      "outputs": [],
      "source": [
        "#Escrita e leitura de csv\n",
        "import csv\n",
        "with open('alunos.csv', mode ='r')as file:\n",
        "    ficheiro = csv.reader(file)\n",
        "    for linha in ficheiro:\n",
        "        print(linha)\n",
        "\n",
        "# Escrita e leitura de json\n",
        "import json\n",
        "f=open(\"cinema.json\",\"r\")\n",
        "dados =json.load(f) #file, load para string dados={\"key\":\"value\"}\n",
        "for i in dados:\n",
        "    print(i)"
      ]
    },
    {
      "cell_type": "markdown",
      "metadata": {
        "id": "zdP2d2ZH7h__"
      },
      "source": [
        "# Resoluções dos alunos"
      ]
    },
    {
      "cell_type": "code",
      "execution_count": 13,
      "metadata": {
        "id": "EmZ0V5Nr6_Li"
      },
      "outputs": [
        {
          "name": "stdout",
          "output_type": "stream",
          "text": [
            "Best 7 students: \n",
            "\n",
            "Student: a47 | Average: 18.0\n",
            "Student: a80 | Average: 18.0\n",
            "Student: a32 | Average: 17.5\n",
            "Student: a74 | Average: 17.5\n",
            "Student: a56 | Average: 17.25\n",
            "Student: a84 | Average: 17.0\n",
            "Student: a13 | Average: 16.75\n"
          ]
        }
      ],
      "source": [
        "import csv\n",
        "\n",
        "# ex 1 .1)\n",
        "def imprime_entradas(file):\n",
        "        with open(file, mode ='r')as file:\n",
        "            ficheiro = csv.reader(file)\n",
        "            for linha in ficheiro:\n",
        "                print(linha)        \n",
        "        \n",
        "# ex 1 .2)        \n",
        "def numero_linhas(file_name):\n",
        "    with open(file_name, mode ='r')as file:\n",
        "        ficheiro = csv.reader(file)\n",
        "        nr = len(list(ficheiro))\n",
        "        print(\"Ficheiro: \", file_name)\n",
        "        print(\"Numero de linhas: \", nr)\n",
        "\n",
        "\n",
        "\n",
        "# ex 1 .3)\n",
        "def file_to_dic(file_name):\n",
        "    students_dic = {}\n",
        "    with open(file_name, mode ='r')as file:\n",
        "        ficheiro = csv.reader(file)\n",
        "        for linha in ficheiro: \n",
        "            aux_dic = {} \n",
        "            aux_dic[\"nome\"] = linha[1]\n",
        "            aux_dic[\"curso\"] = linha[2]\n",
        "            aux_dic[\"tpcs\"] = linha[3:]\n",
        "            average = 0.0\n",
        "            n = 0\n",
        "            s = 0\n",
        "            for grade in aux_dic[\"tpcs\"]:\n",
        "                s += grade\n",
        "                n += 1\n",
        "            average = s / n\n",
        "            aux_dic[\"average\"] = average\n",
        "            students_dic[linha[0]] = aux_dic\n",
        "        print(students_dic)\n",
        "         \n",
        "def average_dic(file_name):\n",
        "    students_dic = {}\n",
        "    with open(file_name, mode ='r')as file:\n",
        "        ficheiro = csv.reader(file)\n",
        "        for linha in ficheiro:\n",
        "            average = 0.0\n",
        "            n = 0\n",
        "            s = 0\n",
        "            for grade in linha[3:]:\n",
        "                s += int(grade)\n",
        "                n += 1\n",
        "            average = s / n\n",
        "            students_dic[linha[0]] = average\n",
        "    students_dic = dict(sorted(students_dic.items(), key=lambda item: item[1], reverse=True))\n",
        "    return students_dic\n",
        "        \n",
        "def best_students(file_name, numero):\n",
        "    students_dic = average_dic(file_name)\n",
        "    print(\"Best \" + str(numero) + \" students: \\n\")\n",
        "    for i in range(0, numero):\n",
        "        chave = list(students_dic.keys())[i]\n",
        "        valor = students_dic[chave]\n",
        "        print(\"Student: \" + chave + \" | Average: \" + str(valor))\n",
        "    \n",
        "        \n",
        "        \n",
        "def main(file_name):\n",
        "    #imprime_entradas(file_name)\n",
        "    #numero_linhas(file_name)\n",
        "    #file_to_dic(file_name)\n",
        "    best_students(file_name, 7)\n",
        "    \n",
        "main(\"alunos.csv\")\n",
        "    "
      ]
    },
    {
      "cell_type": "code",
      "execution_count": null,
      "metadata": {},
      "outputs": [],
      "source": []
    }
  ],
  "metadata": {
    "colab": {
      "provenance": [],
      "toc_visible": true
    },
    "kernelspec": {
      "display_name": "Python 3",
      "language": "python",
      "name": "python3"
    },
    "language_info": {
      "codemirror_mode": {
        "name": "ipython",
        "version": 3
      },
      "file_extension": ".py",
      "mimetype": "text/x-python",
      "name": "python",
      "nbconvert_exporter": "python",
      "pygments_lexer": "ipython3",
      "version": "3.10.12"
    },
    "orig_nbformat": 4
  },
  "nbformat": 4,
  "nbformat_minor": 0
}
